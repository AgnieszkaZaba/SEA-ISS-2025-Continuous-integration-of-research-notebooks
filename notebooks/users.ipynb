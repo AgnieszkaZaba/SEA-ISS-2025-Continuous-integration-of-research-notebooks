{
 "cells": [
  {
   "metadata": {},
   "cell_type": "markdown",
   "source": [
    "---\n",
    "\n",
    "# Users' perspective  <img src=\"img/users-solid.svg\" width=50>\n",
    "\n",
    "```{admonition} Take-home message\n",
    "Notebooks are self-contained and ready to run! User can open them in Colab, binder, etc.\n",
    "```\n",
    "\n",
    "---"
   ],
   "id": "d2b5a9bbffacb504"
  },
  {
   "metadata": {},
   "cell_type": "markdown",
   "source": [
    "## Functions from `open-atmos-jupyter-utils`\n",
    "### **`show_plot()`**\n",
    "\n",
    "```{admonition} show_plot()\n",
    "- gives SVG inline graphics\n",
    "- adds save-SVG/PDF buttons\n",
    "- Google-Drive link on Colab\n",
    "- renders OK on GitHub\n",
    "```"
   ],
   "id": "49fa1db4501fdf0d"
  },
  {
   "metadata": {},
   "cell_type": "markdown",
   "source": [
    "#### Minimal example\n",
    "\n",
    "[![link to github](https://img.shields.io/static/v1?label=open%20on&logo=github&color=87ce3e&message=GitHub)](https://github.com/open-atmos/jupyter-utils/blob/main/examples/show_plot.ipynb)\n",
    "\n",
    "Reproducing the Mandelbrot set published by Brooks and Matelski (see https://en.wikipedia.org/wiki/Mandelbrot_set#History)"
   ],
   "id": "c6f767eef34056cf"
  },
  {
   "metadata": {
    "jupyter": {
     "is_executing": true
    }
   },
   "cell_type": "code",
   "source": [
    "import numpy as np\n",
    "from matplotlib import pyplot \n",
    "from open_atmos_jupyter_utils import show_plot\n",
    "\n",
    "np.seterr(all='ignore')\n",
    "\n",
    "def is_stable(c, n_iters):\n",
    "    z = 0\n",
    "    for _ in range(n_iters):\n",
    "        z = z ** 2 + c \n",
    "    return abs(z) <= 2\n",
    "\n",
    "data = np.array([\n",
    "    re + im * 1j  \n",
    "    for re in np.arange(-2,   1,   3/64)\n",
    "    for im in np.arange(-1.5, 1.5, 3/64)\n",
    "])\n",
    "data = data[is_stable(data, n_iters=20)]\n",
    "\n",
    "pyplot.scatter(data.real, data.imag, marker='.')\n",
    "show_plot()\n"
   ],
   "id": "369dcaa4750ae3ed",
   "outputs": [],
   "execution_count": null
  },
  {
   "metadata": {},
   "cell_type": "markdown",
   "source": [
    "```{admonition} Take-home message\n",
    "Notebooks are great for tutorials, but only if kept up-to-date with ongoing development (with CI automation!)\n",
    "```"
   ],
   "id": "44a90d11c00c1cb6"
  },
  {
   "metadata": {},
   "cell_type": "markdown",
   "source": [
    "#### PySDM examples with `show_plot()` usage\n",
    "\n",
    "- [![preview notebook](https://img.shields.io/static/v1?label=render%20on&logo=github&color=87ce3e&message=GitHub)](https://github.com/open-atmos/PySDM/blob/main/examples/PySDM_examples/Lowe_et_al_2019/fig_2.ipynb) [![launch on mybinder.org](https://mybinder.org/badge_logo.svg)](https://mybinder.org/v2/gh/open-atmos/PySDM.git/main?urlpath=lab/tree/examples/PySDM_examples/Lowe_et_al_2019/fig_2.ipynb) [![launch on Colab](https://colab.research.google.com/assets/colab-badge.svg)](https://colab.research.google.com/github/open-atmos/PySDM/blob/main/examples/PySDM_examples/Lowe_et_al_2019/fig_2.ipynb) based on Fig. 2 from\n",
    "  {cite:p}`lolowe_key_2019` \"_Key drivers of cloud response to surface-active organics_\"\n",
    "- [![preview notebook](https://img.shields.io/static/v1?label=render%20on&logo=github&color=87ce3e&message=GitHub)](https://github.com/open-atmos/PySDM/blob/main/examples/PySDM_examples/deJong_Mackay_et_al_2023/figs_10_11_12_13.ipynb) [![launch on mybinder.org](https://mybinder.org/badge_logo.svg)](https://mybinder.org/v2/gh/open-atmos/PySDM.git/main?urlpath=lab/tree/examples/PySDM_examples/deJong_Mackay_et_al_2023/figs_10_11_12_13.ipynb) [![launch on Colab](https://colab.research.google.com/assets/colab-badge.svg)](https://colab.research.google.com/github/open-atmos/PySDM/blob/main/examples/PySDM_examples/deJong_Mackay_et_al_2023/figs_10_11_12_13.ipynb) based on Fig. 1 from {cite:p}`shipway_diagnosis_2012` \"_Diagnosis of systematic differences between multiple parametrizations of warm rain microphysics using a kinematic framework_\" --- Including BREAKUP process to demonstrate physical changes to cloud.\n",
    "- [![preview notebook](https://img.shields.io/static/v1?label=render%20on&logo=github&color=87ce3e&message=GitHub)](https://github.com/open-atmos/PySDM/blob/main/examples/PySDM_examples/Miyake_et_al_1968/fig_19.ipynb) [![launch on mybinder.org](https://mybinder.org/badge_logo.svg)](https://mybinder.org/v2/gh/open-atmos/PySDM.git/main?urlpath=lab/tree/examples/PySDM_examples/Miyake_et_al_1968/fig_19.ipynb) [![launch on Colab](https://colab.research.google.com/assets/colab-badge.svg)](https://colab.research.google.com/github/open-atmos/PySDM/blob/main/examples/PySDM_examples/Miyake_et_al_1968/fig_19.ipynb) {cite:p}`miyake_isotopic_1968` \"_An Isotopic Study on Meteoric Precipitation_\"\n",
    "\n",
    "- and more..."
   ],
   "id": "d95072d1c86d2010"
  },
  {
   "metadata": {},
   "cell_type": "markdown",
   "source": [
    "```{admonition} Take-home message\n",
    "Vector graphics: compliance with journal requirements\n",
    "```\n",
    "\n",
    "---"
   ],
   "id": "97bdc17e3e7263c9"
  },
  {
   "metadata": {},
   "cell_type": "markdown",
   "source": [
    "### **`show_anim()`**\n",
    "\n",
    "```{admonition} show_anim()\n",
    "- uses matplotlib & imageio\n",
    "- GIF -> base64 -> .ipynb JSON\n",
    "- save-as-GIF button +Colab\n",
    "- renders OK on GitHub\n",
    "```"
   ],
   "id": "b761c9c3745bd6ac"
  },
  {
   "metadata": {},
   "cell_type": "markdown",
   "source": [
    "#### Minimal example \n",
    "[![link to github](https://img.shields.io/static/v1?label=open%20on&logo=github&color=87ce3e&message=GitHub)](https://github.com/open-atmos/jupyter-utils/blob/main/examples/show_anim.ipynb)"
   ],
   "id": "b051bcc53387c279"
  },
  {
   "metadata": {
    "jupyter": {
     "is_executing": true
    }
   },
   "cell_type": "code",
   "source": [
    "from matplotlib import pyplot\n",
    "from open_atmos_jupyter_utils import show_anim \n",
    "\n",
    "def anim_func(frame):\n",
    "    pyplot.plot([(1j**((i+frame)/100)).real for i in range(500)])    \n",
    "    return pyplot.gcf()\n",
    "\n",
    "show_anim(anim_func, frame_range=range(50))"
   ],
   "id": "65219bc980913b69",
   "outputs": [],
   "execution_count": null
  },
  {
   "metadata": {},
   "cell_type": "markdown",
   "source": [
    "```{admonition} Take-home message\n",
    "Visuals rendered inside the notebook help with maintanability of research-notebooks!\n",
    "\n",
    "```\n",
    "\n",
    "---"
   ],
   "id": "3ecdd266d12cafd4"
  },
  {
   "metadata": {},
   "cell_type": "markdown",
   "source": [
    "# DEMO\n",
    "\n",
    "<video width=320 height=240 controls>\n",
    "  <source src=\"../_static/2_users.mp4\" type=\"video/mp4\">\n",
    "Your browser does not support the video tag.\n",
    "</video>"
   ],
   "id": "c6b58c659f10e673"
  },
  {
   "metadata": {},
   "cell_type": "markdown",
   "source": "<img src=\"img/signs-post-solid.svg\" width=50> Let's go to the summary!",
   "id": "30f6c6a80efaaad8"
  }
 ],
 "metadata": {
  "kernelspec": {
   "display_name": "Python 3",
   "language": "python",
   "name": "python3"
  },
  "language_info": {
   "codemirror_mode": {
    "name": "ipython",
    "version": 2
   },
   "file_extension": ".py",
   "mimetype": "text/x-python",
   "name": "python",
   "nbconvert_exporter": "python",
   "pygments_lexer": "ipython2",
   "version": "2.7.6"
  }
 },
 "nbformat": 4,
 "nbformat_minor": 5
}
