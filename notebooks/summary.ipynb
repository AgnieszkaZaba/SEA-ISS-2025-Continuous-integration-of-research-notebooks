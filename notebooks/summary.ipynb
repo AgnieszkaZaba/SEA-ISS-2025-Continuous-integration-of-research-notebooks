{
 "cells": [
  {
   "cell_type": "code",
   "execution_count": null,
   "id": "initial_id",
   "metadata": {
    "collapsed": true
   },
   "outputs": [],
   "source": [
    ""
   ]
  },
  {
   "metadata": {},
   "cell_type": "markdown",
   "source": "",
   "id": "fc38b24ae2af95c4"
  },
  {
   "metadata": {},
   "cell_type": "markdown",
   "source": [
    "\n",
    "\\section{\\texorpdfstring{\\faList \\quad}{} Summary}\n",
    "\\frametoctext{}\n",
    "\n",
    "\\frame{\n",
    "\\faframetitle{\\faClipboardCheck}{Take home messages}% \\faHome \\, \\faClipboardList}\n",
    "\\large\n",
    "%TODO make them to be remeberable? \n",
    "\n",
    "\\begin{block}{\\centering \\Large Essential integration}\n",
    "\\centering\n",
    "     Research notebooks + automated testing workflows\n",
    "\\end{block}\n",
    "\\pause\n",
    "\\begin{block}{\\centering \\Large Modularity and IoC}\n",
    "    \\centering Benefits for users, developers and on-boarding new contributors\n",
    "\\end{block}\n",
    "\\pause\n",
    "\\begin{block}{\\centering \\Large Generated and embedded visuals}\n",
    "\\centering\n",
    "force reproducibility, easier to maintain\n",
    "\\end{block}\n",
    "\\pause\n",
    "\\begin{block}{\\centering\\Large Maintenance of research-result reproducibility}\n",
    "\\centering Supports ongoing project development\n",
    "\\end{block}\n",
    "\n",
    "}"
   ],
   "id": "61efd5a2e6f769f5"
  },
  {
   "metadata": {},
   "cell_type": "markdown",
   "source": [
    "  - TAKE-HOME-MESSAGES:\n",
    "    - PySDM & PyMPDATA & numba-mpi example: single-language HPC-, cloud-computing- and user-friendly tech stack covering sim, vis, analysis\n",
    "    - CI-intergrated notebooks can help devs in maintaining test coverage, at the same time \n",
    "      ensuring consistent/up-to-date tutorials for users\n",
    "    - maintenance of research-result reproducibility can support rather than be a challenge of ongoing project development"
   ],
   "id": "d709e7c73df61e44"
  }
 ],
 "metadata": {
  "kernelspec": {
   "display_name": "Python 3",
   "language": "python",
   "name": "python3"
  },
  "language_info": {
   "codemirror_mode": {
    "name": "ipython",
    "version": 2
   },
   "file_extension": ".py",
   "mimetype": "text/x-python",
   "name": "python",
   "nbconvert_exporter": "python",
   "pygments_lexer": "ipython2",
   "version": "2.7.6"
  }
 },
 "nbformat": 4,
 "nbformat_minor": 5
}
