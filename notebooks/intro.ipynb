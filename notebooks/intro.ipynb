{
 "cells": [
  {
   "cell_type": "markdown",
   "metadata": {},
   "source": [
    "<img src=\"https://ucar-sea.github.io/SEA-ISS-Template/_images/2024_SEA_Logo2.png\"\n",
    "     width=\"500px\"\n",
    "     alt=\"NCAR logo\"\n",
    "     style=\"vertical-align:middle\"/>\n",
    "\n",
    "\n",
    "# Continuous Integration with research notebooks: on maintaining reproducibility in atmospheric modeling\n",
    "\n",
    "**Authors:** [Agnieszka Żaba](mailto:azaba@agh.edu.pl), [Sylwester Arabas](mailto:sylwester.arabas@agh.edu.pl), [`open-atmos` contributors](https://github.com/open-atmos)\n",
    "\n",
    "**Keywords:** [keywords that describe the content of the notebook, comma separated]\n",
    "\n",
    "----------"
   ]
  },
  {
   "cell_type": "markdown",
   "metadata": {},
   "source": [
    "# Abstract\n",
    "The maintenance of research-result reproducibility can support rather than be a challenge of ongoing project development.\n",
    "The integration of research notebooks with automated software testing workflows is an essential prerequisite for this. \n",
    "We present reusable tools and solutions engineered in the development and maintenance of the PySDM ([open-atmos.github.io/PySDM](https://open-atmos.github.io/PySDM)) and PyMPDATA ([open-atmos.github.io/PyMPDATA](open-atmos.github.io/PyMPDATA)) atmospheric modeling projects.\n",
    "Both packages are developed entirely in Python, using just-in-time compilation tools (Numba \\& NVRTC) to enable a single-language HPC tech stack that covers simulation, analysis, and visualization codes.\n",
    "We will discuss the perspectives of both user and developer on reproducibility."
   ]
  },
  {
   "metadata": {},
   "cell_type": "markdown",
   "source": [
    "## Users' perspective\n",
    "From the user's perspective, maintenance of notebooks that reproduce paper results using up-to-date project codebase serves the purpose of documenting and exemplifying project features and applications. \n",
    "It enables exploratory usage with little-to-no effort needed to set up a working environment.\n",
    "However, this is contingent on a design embracing modularity and inversion of control - it is not uncommon in atmospheric modeling for papers to use different simulation flow control or different parameterizations.\n",
    "We present the inversion of control solutions from PySDM that enable the choice of formulae and constants from user code, without trade-offs in: (i)~performance, (ii)~ability to switch between CPU and GPU backends, and (iii)~dimensional analysis of physics-relevant routines for testing unit correctness.\n",
    "The maintenance of notebooks within code repositories also poses challenges in terms of handling embedded visuals.\n",
    "The jupyter-utils project (\\href{https://pypi.io/p/open-atmos-jupyter-utils}{pypi.io/p/open-atmos-jupyter-utils}) helps with embedding GitHub-renderable and Jupyter-book-compatible vector graphics and animations."
   ]
  },
  {
   "metadata": {},
   "cell_type": "markdown",
   "source": [
    "## Devs' perspective\n",
    "From the developer's perspective, notebooks within the code repository are a source of test scenarios and constraints for the assertions that constitute a robust regression-test suite.\n",
    "We present the notebook\\_vars() function from the jupyter-utils package, designed to be used in concert with the fixture logic of the pytest framework.\n",
    "It enables the execution of the notebook code once in a test session, allowing us of  the final notebook state in multiple automated tests. This occurs without modifications to the notebooks themselves.\n",
    "In notebooks pertaining to specific research studies, a direct link from test code up to subject literature is provided.\n",
    "Overall, we achieve an improvement in code readability and refactoring capability."
   ]
  },
  {
   "metadata": {},
   "cell_type": "markdown",
   "source": [
    "## Summary\n",
    "The presented solutions, along with the availability of platforms such as Google Colab, mybinder.org or institutional Jupyter hubs, ensure single-click \n",
    "reproducibility of research-paper results, and a structure for retaining this through future releases of the code base.\n",
    "In addition to the benefits for software users and developers, this satisfies the scientific-method and research-journal reproducibility requirements.\n",
    "%A real-life example featuring published cloud-microphysics simulation study employing PySDM and maintained as one of the PySDM example notebooks and accompanied by regression tests  will constitute the proceeding Jupyter notebook."
   ]
  },
  {
   "metadata": {},
   "cell_type": "markdown",
   "source": [
    "## Short Bio\n",
    "I am a PhD student in the Environmental Physics Group (zfs.agh.edu.pl/en) at~the Faculty of Physics and Applied Computer Science, AGH University of Krakow. My research interests lie at the intersection between cloud microphysics and climate-science applications of water isotopes. I am a member of the github.com/open-atmos community and the maintainer of PySDM project.\n",
    "\\end{document}\n"
   ]
  },
  {
   "metadata": {},
   "cell_type": "code",
   "outputs": [],
   "execution_count": null,
   "source": ""
  }
 ],
 "metadata": {
  "kernelspec": {
   "display_name": "Python 3 (ipykernel)",
   "language": "python",
   "name": "python3"
  },
  "language_info": {
   "codemirror_mode": {
    "name": "ipython",
    "version": 3
   },
   "file_extension": ".py",
   "mimetype": "text/x-python",
   "name": "python",
   "nbconvert_exporter": "python",
   "pygments_lexer": "ipython3",
   "version": "3.9.0"
  }
 },
 "nbformat": 4,
 "nbformat_minor": 4
}
