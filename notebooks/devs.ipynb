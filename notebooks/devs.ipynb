{
 "cells": [
  {
   "metadata": {},
   "cell_type": "markdown",
   "source": [
    "---\n",
    "\n",
    "# Developers' perspective            <img src=\"img/users-gear-solid.svg\" width=50>\n",
    "\n",
    "---"
   ],
   "id": "c5c16892722f3673"
  },
  {
   "metadata": {},
   "cell_type": "markdown",
   "source": "## What is special about atmospheric science? <img src=\"img/cloud-solid.svg\" width=50>",
   "id": "904d025b37e23075"
  },
  {
   "metadata": {},
   "cell_type": "markdown",
   "source": [
    "It is not uncommon in atmospheric modeling for papers to use different simulation flow control or different parameterizations.\n",
    "We present the inversion of control solutions from PySDM that enable the choice of formulae and constants from user code, without trade-offs in:\n",
    "- performance,\n",
    "- ability to switch between CPU and GPU backends, and\n",
    "- dimensional analysis of physics-relevant routines for testing unit correctness.\n",
    "    "
   ],
   "id": "6bf40a2bce21ccb"
  },
  {
   "metadata": {},
   "cell_type": "markdown",
   "source": [
    "```{admonition} Inversion of Control\n",
    "Prerequisite for reusability in atmospheric science and for testing\n",
    "```"
   ],
   "id": "35d5d8a0aec19be2"
  },
  {
   "metadata": {},
   "cell_type": "markdown",
   "source": "<img src=\"img/Bolin_formula.png\" width=500>\n",
   "id": "cefb6b16532b73ba"
  },
  {
   "metadata": {},
   "cell_type": "markdown",
   "source": [
    "```{admonition} Take-home message\n",
    "Formulae and Constants chosen by User --- Modularity and Inversion of Control \n",
    "\n",
    "Help with on-boarding new developers \n",
    "```\n",
    "\n",
    "---"
   ],
   "id": "917843b91a80261a"
  },
  {
   "metadata": {},
   "cell_type": "markdown",
   "source": [
    "## Dimensional analysis\n",
    "Due to modularity inside repository there is a feasibility to engineer dimensional analysis of the code that can be switched on for testing, and swtiched off by default "
   ],
   "id": "86b88db3af815509"
  },
  {
   "metadata": {},
   "cell_type": "markdown",
   "source": [
    "\n",
    "\n",
    "<img src=\"img/Bolin_test.png\" width=500>"
   ],
   "id": "2535492671718772"
  },
  {
   "metadata": {},
   "cell_type": "markdown",
   "source": [
    "```{admonition} Take-home message\n",
    "Modularity and Inversion of Control help with dimensional analysis!\n",
    "```\n",
    "\n",
    "---"
   ],
   "id": "c771327b942b9ecd"
  },
  {
   "metadata": {},
   "cell_type": "markdown",
   "source": "## Notebooks are a source of test (edge) cases!",
   "id": "a8e520b19a5cf3e2"
  },
  {
   "metadata": {},
   "cell_type": "markdown",
   "source": "[![link to github](https://img.shields.io/static/v1?label=open-atmos-jupyter-utils%20on&logo=github&color=87ce3e&message=GitHub)](https://github.com/open-atmos/jupyter-utils)",
   "id": "6707f08098017fba"
  },
  {
   "metadata": {},
   "cell_type": "markdown",
   "source": [
    "**`open-atmos-jupyter-utils`**\n",
    "A Python package providing Jupyter notebook utility routines \n",
    "for:\n",
    "- presenting [matplotlib](https://matplotlib.org) plots as either SVG vector graphics or animated GIFs, embedding them within the notebooks, and rendering correctly in [GitHub's Rich Jupyter Notebook diffs](https://github.blog/changelog/2023-03-01-feature-preview-rich-jupyter-notebook-diffs/)\n",
    "- save-as buttons below each figure (triggering [Google-Drive downloads](https://colab.research.google.com/notebooks/io.ipynb#scrollTo=hauvGV4hV-Mh) on [Colab](https://colab.google/))\n",
    "- execution of unmodified notebook code for automated testing (e.g., within [pytest fixtures](https://docs.pytest.org/en/stable/explanation/fixtures.html))\n",
    "- pip-installation of external packages on Colab safeguarded against [alterations of Google-shipped packages](https://github.com/googlecolab/colabtools/issues/2837)\n",
    "\n",
    "Can be installed via `pip`\n",
    "[![PyPI version](https://badge.fury.io/py/open-atmos-jupyter-utils.svg)](https://pypi.org/project/open-atmos-jupyter-utils)\n",
    "[![Github repo](https://img.shields.io/badge/jupyter--utils-code_repository-gold?logo=github)](https://github.com/open-atmos/jupyter-utils)"
   ],
   "id": "852c28fbd12a8501"
  },
  {
   "metadata": {},
   "cell_type": "markdown",
   "source": [
    "```\n",
    "pip install open-atmos-jupyter-utils\n",
    "```\n",
    "\n",
    "---"
   ],
   "id": "b11a172d0964e6d8"
  },
  {
   "metadata": {},
   "cell_type": "markdown",
   "source": [
    "\n",
    "### **`notebook_vars()`**\n",
    "- executes unmodified notebook code for automated testing\n",
    "- run-once with multiple asserts (using pytest fixture)"
   ],
   "id": "e89f25fea2aea702"
  },
  {
   "metadata": {},
   "cell_type": "markdown",
   "source": [
    "```{admonition} Take-home message\n",
    "Research notebooks are a source of test cases --- physical model, paper results, etc.\n",
    "```\n",
    "\n",
    "```{admonition} Take-home message\n",
    "Using pytest fixture unit tests are outside the notebooks!\n",
    "```\n",
    "\n",
    "---"
   ],
   "id": "84d49b1d912fb3aa"
  },
  {
   "metadata": {},
   "cell_type": "markdown",
   "source": "## DEMO",
   "id": "a4bb909c61934144"
  },
  {
   "metadata": {},
   "cell_type": "markdown",
   "source": [
    "<video width=\"600\" height=\"400\" controls>\n",
    "  <source src=\"img/1_AZaba_Devs_perspective.mp4\" type=\"video/mp4\">\n",
    "Your browser does not support the video tag.\n",
    "</video>"
   ],
   "id": "9bd773d6f71ecf18"
  },
  {
   "metadata": {},
   "cell_type": "markdown",
   "source": [
    "<img src=\"img/signs-post-solid.svg\" width=50> Let's go to the Users' perspective!\n",
    "\n",
    "---"
   ],
   "id": "789c6605a7e6f2f0"
  }
 ],
 "metadata": {
  "kernelspec": {
   "display_name": "Python 3",
   "language": "python",
   "name": "python3"
  },
  "language_info": {
   "codemirror_mode": {
    "name": "ipython",
    "version": 2
   },
   "file_extension": ".py",
   "mimetype": "text/x-python",
   "name": "python",
   "nbconvert_exporter": "python",
   "pygments_lexer": "ipython2",
   "version": "2.7.6"
  }
 },
 "nbformat": 4,
 "nbformat_minor": 5
}
