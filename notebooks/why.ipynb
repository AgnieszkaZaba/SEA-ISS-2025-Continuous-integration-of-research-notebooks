{
 "cells": [
  {
   "metadata": {},
   "cell_type": "markdown",
   "source": [
    "----- \n",
    "# Why reproducibility? \n",
    "\n"
   ],
   "id": "75fb5a615163cbea"
  },
  {
   "metadata": {},
   "cell_type": "markdown",
   "source": [
    "## [Geoscientific Model Development (GMD) Guidelines](https://gmd.copernicus.org/articles/12/2215/2019/) \n",
    "![GMD Cover](img/gmd_cover.png)  \n",
    "\n",
    "GMD executive editors: Editorial: The publication of geoscientific model developments v1.2, Geosci. Model Dev., 12, 2215–2225, https://doi.org/10.5194/gmd-12-2215-2019, 2019.\n",
    "\n",
    "\n",
    "**The GMD journal** in 2019 posted editorial guidelines regarding code and data policies. In this paper we want to address \"Further steps towards best practice\" (section 3). In the paper we can find that \n",
    " \n",
    "> (...) it is not sufficient that the source code is provided. It is also necessary to have **access** to all of the **input data** (...) and all **model configuration files** are provided.\n",
    "\n",
    "Next point in the same section mentions that manual processing is considered harmful\n",
    "\n",
    "> (...) challenge (...) occurs where model inputs or outputs have been manually processed by an author. (...) nobody, not even the author, can definitively know (...) how the results came about. \n",
    "\n",
    "To avoid this challange:\n",
    "> \"All figures and tables must be **scientifically reproducible from the scripts**.\"\n"
   ],
   "id": "db208532d469bee2"
  },
  {
   "metadata": {},
   "cell_type": "markdown",
   "source": [
    "```{warning}\n",
    "GMD Guidelines: journals enforce redproducibility against archived releases (which is great!)\n",
    "```"
   ],
   "id": "8a435ce28e1a128f"
  },
  {
   "metadata": {},
   "cell_type": "markdown",
   "source": "# Why notebooks?\n",
   "id": "7134a0cfdd4e41e6"
  },
  {
   "metadata": {},
   "cell_type": "markdown",
   "source": [
    "\n",
    "##  _Why Jupyter is data scientists’ computational notebook of choice_\n",
    "### [Nature 563 (toolbox): Perkel 2018, DOI:10.1038/d41586-018-07196-1](https://doi.org/10.1038/d41586-018-07196-1)\n",
    "\n",
    "<img src=\"img/nature.svg.webp\" width=500 class=\"center\">\n",
    "\n"
   ],
   "id": "318487ef66091506"
  },
  {
   "metadata": {},
   "cell_type": "markdown",
   "source": [
    "##  _Reactive, reproducible, collaborative: computational notebooks evolve_\n",
    "### [Nature 593: Perkel 2021 DOI:10.1038/d41586-021-01174-w](https://doi.org/10.1038/d41586-021-01174-w)\n",
    "<img src=img/Nature2021.webp width=500>"
   ],
   "id": "c931b00937f71f4d"
  },
  {
   "metadata": {},
   "cell_type": "markdown",
   "source": [
    "Three years after previous paper we can find another one (with above title). \n",
    "If you're still asking yourself \"Why notebooks?\", here is a quote from Nature's paper:\n",
    "> We went from Jupyter notebooks not existing some six years ago to in essence everybody using them today.\n",
    "\n",
    "We want to address challenges with Jupyter-notebooks, that are\n",
    "> (...) difficult to organize code logically, break it into reusable modules and develop tests to ensure~the code is working properly\n",
    "\n",
    "There is also this!\n",
    "> A 2019 study found that just 24\\% of 863,878 publicly available Jupyter notebooks on GitHub could be successfully re-executed, and only 4\\% produced the same results.[^1]\n",
    "\n",
    "[^1]:(J. F. Pimentel et al. in 2019 IEEE/ACM 16th International Conference on Mining Software Repositories (MSR) 507–517; IEEE, 2019)\n"
   ],
   "id": "62031d1ebdadc4df"
  },
  {
   "metadata": {},
   "cell_type": "markdown",
   "source": [
    "# Can we do even better?\n",
    "\n",
    "```{warning}\n",
    "The reproducibility is maintained with ongoing developments, even better!\n",
    "```"
   ],
   "id": "513f4b9d363547db"
  },
  {
   "metadata": {},
   "cell_type": "markdown",
   "source": "### <img src=\"img/signs-post-solid.svg\" width=50>   In next sections you can find solutions developed in our packages.",
   "id": "22eafa8d69e4731a"
  }
 ],
 "metadata": {
  "kernelspec": {
   "display_name": "Python 3",
   "language": "python",
   "name": "python3"
  },
  "language_info": {
   "codemirror_mode": {
    "name": "ipython",
    "version": 2
   },
   "file_extension": ".py",
   "mimetype": "text/x-python",
   "name": "python",
   "nbconvert_exporter": "python",
   "pygments_lexer": "ipython2",
   "version": "2.7.6"
  }
 },
 "nbformat": 4,
 "nbformat_minor": 5
}
