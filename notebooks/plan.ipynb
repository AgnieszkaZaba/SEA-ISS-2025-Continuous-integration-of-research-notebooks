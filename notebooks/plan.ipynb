{
 "cells": [
  {
   "metadata": {},
   "cell_type": "markdown",
   "source": "<img src=\"img/oaju_pypi.pdf\">\n",
   "id": "8adc679f296532dc"
  },
  {
   "metadata": {},
   "cell_type": "markdown",
   "source": "<iframe src=\"img/pysdm_docs.pdf\" style=\"width: 100%;height: 800px;border: none;\"></iframe>",
   "id": "b46097b4557373a3"
  },
  {
   "metadata": {
    "ExecuteTime": {
     "end_time": "2025-04-11T05:02:36.522999Z",
     "start_time": "2025-04-11T05:02:36.521515Z"
    }
   },
   "cell_type": "code",
   "source": "",
   "id": "723d03bf67aa748b",
   "outputs": [],
   "execution_count": null
  }
 ],
 "metadata": {
  "kernelspec": {
   "display_name": "Python 3",
   "language": "python",
   "name": "python3"
  },
  "language_info": {
   "codemirror_mode": {
    "name": "ipython",
    "version": 2
   },
   "file_extension": ".py",
   "mimetype": "text/x-python",
   "name": "python",
   "nbconvert_exporter": "python",
   "pygments_lexer": "ipython2",
   "version": "2.7.6"
  }
 },
 "nbformat": 4,
 "nbformat_minor": 5
}
